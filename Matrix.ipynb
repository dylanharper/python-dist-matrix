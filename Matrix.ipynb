{
 "cells": [
  {
   "cell_type": "markdown",
   "metadata": {},
   "source": [
    "# Statistical Distributions and Scipy Matrix"
   ]
  },
  {
   "cell_type": "markdown",
   "metadata": {},
   "source": [
    "References: Wikipedia <br>\n",
    "[Scipy Stats Docs](https://docs.scipy.org/doc/scipy/reference/stats.html)"
   ]
  },
  {
   "cell_type": "markdown",
   "metadata": {},
   "source": [
    "Distribution | MEAN | VAR | PMF | CDF \n",
    "--- | :---: | :---: | :---: | :---: \n",
    "[Bernoulli](https://en.wikipedia.org/wiki/Bernoulli_distribution) <br> ex: distribution of a single coin flip | $p$ | $p(1-p)$ | $1-p$ for $k=0$ <br> $p$ for $k=1$ | $0$ for $k=0$ <br> $1-p$ for $0\\leq k < 1$ <br> $1$ for $k \\geq 1$\n",
    "`bern_dist = scs.bernoulli(p=0.5)` <p></p> `bern_sample = scs.bernoulli.rvs(p=0.5, loc=0, size=100)` | `bern_dist.mean()` | `bern_dist.var()` | `bern_dist.pmf(k=1)` | `bern_dist.cdf(x=0.75)`\n",
    "[Binomial](https://en.wikipedia.org/wiki/Binomial_distribution) <br> distribution of multiple binary events | $np$ | $np(1-p)$ | $\\binom{n}{k}p^{k}(1-p)^{n-k}$ | $(n-k)\\binom{n}{k}\\int_{0}^{1-p}{t^{n-k-1}(1-t)^{k}\\mathrm{d}t}$\n",
    "`binom_dist = scs.binom(n=50, p=0.5)` <p></p> `binom_dist_sample = scs.binom.rvs(n=50, p=0.5, loc=0, size=20)` | `binom_dist.mean()` | `binom_dist.var()` | `binom_dist.pmf(k=25)` | `binom_dist.cdf(x=25)`\n",
    "[Poisson](https://en.wikipedia.org/wiki/Poisson_distribution) <br> `mu` is $\\lambda$, `loc` is typically $0$ | $\\lambda$  | $\\lambda$ | $\\frac{\\lambda^{k}e^{-\\lambda}}{k!}$ | $e^{-\\lambda}\\sum\\limits_{k=0}^{\\infty}{\\frac{\\lambda^{i}}{i!}}$\n",
    "`pois_dist = scs.poisson(mu=3, loc=0)` <p></p> `pois_sample = scs.poisson.rvs(mu=3, loc=0, size=20)` | `pois_dist.mean()` | `pois_dist.var()` | `pois_dist.pmf(k=2)` | `pois_dist.cdf(x=2)`\n",
    "[Geometric](https://en.wikipedia.org/wiki/Geometric_distribution) | $1/p$ | $\\frac{1-p}{p^{2}}$ | $(1-p)^{k-1}p$ | $1-(1-p)^{k}$\n",
    "`geom_dist = scs.geom(p=0.25, loc=0)` <p></p> `geom_sample = scs.geom.rvs(p=0.25, loc=0, size=20)` | `geom_dist.mean()` | `geom_dist.var()` | `geom_dist.pmf(k=4)`| `geom_dist.cdf(x=4)`\n"
   ]
  },
  {
   "cell_type": "markdown",
   "metadata": {},
   "source": [
    "## Continuous Distributions\n",
    "\n",
    "Distribution | MEAN | VAR | PDF | CDF \n",
    "--- | :---: | :---: | :---: | :---: \n",
    "[Normal](https://en.wikipedia.org/wiki/Normal_distribution) <br> ex: heights of women or heights of men are normally distributed <br>`loc` is $\\mu$, `scale` is $\\sigma$ | $\\mu$ | $\\sigma^{2}$ | $\\frac{1}{\\sqrt{2\\pi\\sigma^{2}}}e^{-\\frac{(x-\\mu)^{2}}{2\\sigma^{2}}}$ | $\\frac{1}{2}\\left[1+\\text{erf}\\left(\\frac{x-\\mu}{\\sigma\\sqrt{2}}\\right)\\right]$\n",
    "`norm_dist = scs.norm(loc=0, scale=2)` <p></p> `norm_sample = scs.norm.rvs(loc=0, scale=1, size=20)` | `norm_dist.mean()` | `norm_dist.var()` | `norm_dist.pdf(x=0)` | `norm_dist.cdf(x=0)`\n",
    "[Uniform](https://en.wikipedia.org/wiki/Uniform_distribution_(continuous)) <br> ex: distribution of results of die rolls <br> `loc` is $a$, `scale` is $b-a$ | $\\frac{a+b}{2}$ | $\\frac{(a+b)^{2}}{12}$ | $\\frac{1}{b-a}$ for $x \\in \\mid a, b \\mid$ <br> $0$ otherwise | $0$ for $x < a$ <br> $\\frac{x-a}{b-a}$ for $x \\in \\mid a, b$ <br> $1$ for $x \\geq b$\n",
    "`unif_dist = scs.uniform(loc=0, scale=10)` <p></p> `unif_sample = scs.uniform.rvs(loc=0, scale=10, size=20)` | `unif_dist.mean()` | `unif_dist.var()` | `unif_dist.pdf(x=3)` | `unif_dist.cdf(x=3)`\n",
    "[Exponential](https://en.wikipedia.org/wiki/Exponential_distribution) <br> `scale` is $\\lambda$, `loc` is typically $0$ | $\\lambda^{-1}$ | $\\lambda^{-2}$ | $\\lambda e^{-\\lambda x}$ | $\\lambda e^{-\\lambda x}$\n",
    "`exp_dist = scs.expon(loc=0, scale=2)` <p></p> `exp_sample = scs.expon.rvs(loc=0, scale=2, size=20)` | `exp_dist.mean()` | `exp_dist.var()` | `exp_dist.pdf(x=1)` | `exp_dist.cdf(x=1)`\n",
    "[Gamma](https://en.wikipedia.org/wiki/Gamma_distribution) <br> `a` is $k$, `scale` is $\\theta$, `loc` is typically $0$ | $k\\theta$ | $k\\theta^{2}$ | $\\frac{1}{\\Gamma(k)\\theta^{k}}x^{k-1} e^{-\\frac{x}{\\theta}}$ | $\\frac{1}{\\Gamma(k)}\\gamma(k,\\frac{x}{\\theta})$\n",
    "`gam_dist = scs.gamma(a=1, loc=0, scale=2)` <p></p> `gam_sample = scs.gamma.rvs(a=1, loc=0, scale=2, size=20)` | `gam_dist.mean()` | `am_dist.var()` | `gam_dist.pdf(x=3)` | `gam_dist.cdf(x=3)`"
   ]
  },
  {
   "cell_type": "code",
   "execution_count": null,
   "metadata": {},
   "outputs": [],
   "source": []
  }
 ],
 "metadata": {
  "kernelspec": {
   "display_name": "Python 3",
   "language": "python",
   "name": "python3"
  },
  "language_info": {
   "codemirror_mode": {
    "name": "ipython",
    "version": 3
   },
   "file_extension": ".py",
   "mimetype": "text/x-python",
   "name": "python",
   "nbconvert_exporter": "python",
   "pygments_lexer": "ipython3",
   "version": "3.6.3"
  }
 },
 "nbformat": 4,
 "nbformat_minor": 2
}
